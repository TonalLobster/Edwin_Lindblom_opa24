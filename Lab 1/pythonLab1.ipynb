{
 "cells": [
  {
   "cell_type": "code",
   "execution_count": 19,
   "metadata": {},
   "outputs": [
    {
     "name": "stdout",
     "output_type": "stream",
     "text": [
      ">seq1\n",
      "cGTAaccaataaaaaaacaagcttaacctaattc\n",
      ">seq2\n",
      "agcttagTTTGGatctggccgggg\n",
      ">seq3\n",
      "gcggatttactcCCCCCAAAAANNaggggagagcccagataaatggagtctgtgcgtccaca\n",
      ">seq4\n",
      "gcggatttactcaggggagagcccagGGataaatggagtctgtgcgtccaca\n"
     ]
    }
   ],
   "source": [
    "dna_sequences = r\"C:\\Users\\edwin\\Documents\\Edwin_Lindblom_opa24\\Lab 1\\dna_raw.txt\"\n",
    "with open(dna_sequences, \"r\") as file:\n",
    "    dna_sequences = file.read()\n",
    "print (dna_sequences)"
   ]
  },
  {
   "cell_type": "code",
   "execution_count": 20,
   "metadata": {},
   "outputs": [
    {
     "name": "stdout",
     "output_type": "stream",
     "text": [
      "['>seq1', 'cGTAaccaataaaaaaacaagcttaacctaattc', '>seq2', 'agcttagTTTGGatctggccgggg', '>seq3', 'gcggatttactcCCCCCAAAAANNaggggagagcccagataaatggagtctgtgcgtccaca', '>seq4', 'gcggatttactcaggggagagcccagGGataaatggagtctgtgcgtccaca']\n"
     ]
    }
   ],
   "source": [
    "\n",
    "dna_fixed_spacing = dna_sequences.split()\n",
    "\n",
    "print(dna_fixed_spacing)"
   ]
  },
  {
   "cell_type": "code",
   "execution_count": 21,
   "metadata": {},
   "outputs": [
    {
     "name": "stdout",
     "output_type": "stream",
     "text": [
      ">seq1 cGTAaccaataaaaaaacaagcttaacctaattc\n",
      "{'G': 2, 'T': 7, 'C': 8, 'A': 17}\n",
      ">seq2 agcttagTTTGGatctggccgggg\n",
      "{'G': 10, 'T': 7, 'C': 4, 'A': 3}\n",
      ">seq3 gcggatttactcCCCCCAAAAANNaggggagagcccagataaatggagtctgtgcgtccaca\n",
      "{'G': 16, 'T': 10, 'C': 16, 'A': 18}\n",
      ">seq4 gcggatttactcaggggagagcccagGGataaatggagtctgtgcgtccaca\n",
      "{'G': 18, 'T': 10, 'C': 11, 'A': 13}\n"
     ]
    }
   ],
   "source": [
    "dna_counts = {}\n",
    "\n",
    "for sequence_name, sequence in zip(dna_fixed_spacing[::2], dna_fixed_spacing[1::2]):\n",
    "    capital_sequence = sequence.upper()\n",
    "    each_letter_count = {'G': 0, 'T': 0,'C': 0, 'A': 0}\n",
    "\n",
    "    for letter in capital_sequence:\n",
    "        if letter in each_letter_count:\n",
    "            each_letter_count[letter] += 1\n",
    "\n",
    "    dna_counts[sequence_name.lower()] = each_letter_count\n",
    "\n",
    "\n",
    "    print(sequence_name,sequence)\n",
    "    print(each_letter_count)\n"
   ]
  },
  {
   "cell_type": "code",
   "execution_count": 18,
   "metadata": {},
   "outputs": [],
   "source": [
    "import matplotlib.pyplot as plt"
   ]
  },
  {
   "cell_type": "code",
   "execution_count": null,
   "metadata": {},
   "outputs": [],
   "source": []
  }
 ],
 "metadata": {
  "kernelspec": {
   "display_name": ".venv",
   "language": "python",
   "name": "python3"
  },
  "language_info": {
   "codemirror_mode": {
    "name": "ipython",
    "version": 3
   },
   "file_extension": ".py",
   "mimetype": "text/x-python",
   "name": "python",
   "nbconvert_exporter": "python",
   "pygments_lexer": "ipython3",
   "version": "3.12.9"
  }
 },
 "nbformat": 4,
 "nbformat_minor": 2
}
