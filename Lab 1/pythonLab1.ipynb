{
 "cells": [
  {
   "cell_type": "code",
   "execution_count": 58,
   "metadata": {},
   "outputs": [
    {
     "name": "stdout",
     "output_type": "stream",
     "text": [
      ">seq1\n",
      "cGTAaccaataaaaaaacaagcttaacctaattc\n",
      ">seq2\n",
      "agcttagTTTGGatctggccgggg\n",
      ">seq3\n",
      "gcggatttactcCCCCCAAAAANNaggggagagcccagataaatggagtctgtgcgtccaca\n",
      ">seq4\n",
      "gcggatttactcaggggagagcccagGGataaatggagtctgtgcgtccaca\n"
     ]
    }
   ],
   "source": [
    "dna_sequences = r\"C:\\Users\\edwin\\Documents\\Edwin_Lindblom_opa24\\Lab 1\\dna_raw.txt\"\n",
    "with open(dna_sequences, \"r\") as file:\n",
    "    dna_sequences = file.read()\n",
    "print (dna_sequences)"
   ]
  },
  {
   "cell_type": "code",
   "execution_count": 99,
   "metadata": {},
   "outputs": [
    {
     "name": "stdout",
     "output_type": "stream",
     "text": [
      "['>seq1', 'cGTAaccaataaaaaaacaagcttaacctaattc', '>seq2', 'agcttagTTTGGatctggccgggg', '>seq3', 'gcggatttactcCCCCCAAAAANNaggggagagcccagataaatggagtctgtgcgtccaca', '>seq4', 'gcggatttactcaggggagagcccagGGataaatggagtctgtgcgtccaca']\n"
     ]
    }
   ],
   "source": [
    "\n",
    "dna_fixed_spacing = dna_sequences.split()\n",
    "\n",
    "print(dna_fixed_spacing)"
   ]
  },
  {
   "cell_type": "code",
   "execution_count": null,
   "metadata": {},
   "outputs": [
    {
     "name": "stdout",
     "output_type": "stream",
     "text": [
      "dna sequence number: >seq1, dna sequence: cGTAaccaataaaaaaacaagcttaacctaattc\n",
      "dna sequence number: >seq2, dna sequence: agcttagTTTGGatctggccgggg\n",
      "dna sequence number: >seq3, dna sequence: gcggatttactcCCCCCAAAAANNaggggagagcccagataaatggagtctgtgcgtccaca\n",
      "dna sequence number: >seq4, dna sequence: gcggatttactcaggggagagcccagGGataaatggagtctgtgcgtccaca\n"
     ]
    }
   ],
   "source": [
    "# print (dna_fixed_spacing[0:2]) \n",
    "# print (dna_fixed_spacing[2:4]) \n",
    "# print (dna_fixed_spacing[4:6])  \n",
    "# print (dna_fixed_spacing[6:8])\n",
    "# for i in range(0, len(dna_fixed_spacing), 2):\n",
    "#     seq_Number_dna = dna_fixed_spacing[i]\n",
    "#     dna_sequence = dna_fixed_spacing[i+1]\n",
    "#     print (f\"dna sequence number: {seq_Number_dna}. dna sequence: {dna_sequence}\")\n",
    "\n",
    "# for seq_Number_dna, dna in zip(dna_fixed_spacing[::2], dna_fixed_spacing[1::2]):\n",
    "#     print(f\"dna sequence number: {seq_Number_dna}, dna sequence: {dna_sequence}\")\n",
    "\n",
    "\n",
    "# Pythonic variant.\n",
    "\n",
    "for seq_number_dna, dna_sequence in zip(dna_fixed_spacing[::2], dna_fixed_spacing[1::2]):\n",
    "    print(f\"dna sequence number: {seq_number_dna}, dna sequence: {dna_sequence}\")\n"
   ]
  },
  {
   "cell_type": "code",
   "execution_count": 106,
   "metadata": {},
   "outputs": [
    {
     "data": {
      "text/plain": [
       "{'>seq1': 'cgtaaccaataaaaaaacaagcttaacctaattc',\n",
       " '>seq2': 'agcttagtttggatctggccgggg',\n",
       " '>seq3': 'gcggatttactccccccaaaaannaggggagagcccagataaatggagtctgtgcgtccaca',\n",
       " '>seq4': 'gcggatttactcaggggagagcccagggataaatggagtctgtgcgtccaca'}"
      ]
     },
     "execution_count": 106,
     "metadata": {},
     "output_type": "execute_result"
    }
   ],
   "source": [
    "{sequence_name.lower(): each_sequence.lower() for sequence_name, each_sequence in zip(dna_fixed_spacing[::2], dna_fixed_spacing[1::2])}"
   ]
  },
  {
   "cell_type": "code",
   "execution_count": null,
   "metadata": {},
   "outputs": [],
   "source": []
  }
 ],
 "metadata": {
  "kernelspec": {
   "display_name": ".venv",
   "language": "python",
   "name": "python3"
  },
  "language_info": {
   "codemirror_mode": {
    "name": "ipython",
    "version": 3
   },
   "file_extension": ".py",
   "mimetype": "text/x-python",
   "name": "python",
   "nbconvert_exporter": "python",
   "pygments_lexer": "ipython3",
   "version": "3.12.9"
  }
 },
 "nbformat": 4,
 "nbformat_minor": 2
}
