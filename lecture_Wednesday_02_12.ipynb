{
 "cells": [
  {
   "cell_type": "markdown",
   "metadata": {},
   "source": [
    "## Private by convension"
   ]
  },
  {
   "cell_type": "code",
   "execution_count": null,
   "metadata": {},
   "outputs": [
    {
     "name": "stdout",
     "output_type": "stream",
     "text": [
      "25\n"
     ]
    }
   ],
   "source": [
    "# \"_\"/underscore is used to make the variable private\n",
    "\n",
    "\n",
    "# You could still access the private variable but it is not recommended because it is a convention to not access private variables\n",
    "\n"
   ]
  },
  {
   "cell_type": "markdown",
   "metadata": {},
   "source": [
    "## Daily code along"
   ]
  },
  {
   "cell_type": "markdown",
   "metadata": {},
   "source": [
    "## recap for python fundamentals\n",
    "\n",
    "- Data types (int, float, strings, collections etc)\n",
    "- Control statements (if, while, for etc)\n",
    "\n",
    "## Random knowledge check\n",
    "- What are string methods?\n",
    "- Can you suggest some collection data types?\n",
    "- (Try not to do this) Why you need a 'break' when you have a 'while true' statement?\n"
   ]
  },
  {
   "cell_type": "markdown",
   "metadata": {},
   "source": [
    "## Code along"
   ]
  },
  {
   "cell_type": "markdown",
   "metadata": {},
   "source": [
    "### try-except for error handling"
   ]
  },
  {
   "cell_type": "code",
   "execution_count": null,
   "metadata": {},
   "outputs": [
    {
     "name": "stdout",
     "output_type": "stream",
     "text": [
      "You are 25.0 years old\n"
     ]
    }
   ],
   "source": [
    "try:\n",
    "    age = float (input(\"Enter your age: \")) # input() always return a string\n",
    "    if not 0 <age < 125:\n",
    "        raise ValueError(\"Age must be between 0 and 125\") # write the error message to user\n",
    "    print (f\"You are {age} years old\")\n",
    "except ValueError as err:\n",
    "    print (err)"
   ]
  },
  {
   "cell_type": "markdown",
   "metadata": {},
   "source": [
    "#### Functions\n",
    "- Reusable code\n",
    "- function vs module vs library\n",
    "- module = py script\n",
    "- function is a block of reusable code\n",
    "- module is a python script storing reusavle codes for other python scripts to call for/use\n",
    "- library is a combination of many modules, also ...\n"
   ]
  },
  {
   "cell_type": "code",
   "execution_count": null,
   "metadata": {},
   "outputs": [],
   "source": [
    "def add_numbers(number1, number2):\n",
    "    return number1 + number2\n",
    "\n",
    "#define a function\n"
   ]
  },
  {
   "cell_type": "code",
   "execution_count": 20,
   "metadata": {},
   "outputs": [
    {
     "data": {
      "text/plain": [
       "3"
      ]
     },
     "execution_count": 20,
     "metadata": {},
     "output_type": "execute_result"
    }
   ],
   "source": [
    "def add_numbers(number1, number2):\n",
    "    return number1 + number2\n",
    "\n",
    "#call for a function or I use the function to produce output\n",
    "add_numbers(1, 2)"
   ]
  },
  {
   "cell_type": "code",
   "execution_count": 22,
   "metadata": {},
   "outputs": [
    {
     "data": {
      "text/plain": [
       "4"
      ]
     },
     "execution_count": 22,
     "metadata": {},
     "output_type": "execute_result"
    }
   ],
   "source": [
    "import function #modulize the function\n",
    "function.add_numbers(1, 3)"
   ]
  },
  {
   "cell_type": "markdown",
   "metadata": {},
   "source": [
    "##### *args\n",
    "- arbitrary arguments when the number of arguments is unkown. "
   ]
  },
  {
   "cell_type": "code",
   "execution_count": 26,
   "metadata": {},
   "outputs": [
    {
     "name": "stdout",
     "output_type": "stream",
     "text": [
      "3.0\n"
     ]
    }
   ],
   "source": [
    "def my_mean(*args):\n",
    "    sum_ = 0\n",
    "    for arg in args:\n",
    "        sum_ += arg\n",
    "    return sum_/len(args)\n",
    "\n",
    "print (my_mean(1,2,3,4,5))"
   ]
  },
  {
   "cell_type": "markdown",
   "metadata": {},
   "source": [
    "### \\***kwargs*\n",
    "- keyword arguments when arguments are used differently inside the function"
   ]
  },
  {
   "cell_type": "code",
   "execution_count": 47,
   "metadata": {},
   "outputs": [
    {
     "data": {
      "text/plain": [
       "array([[6, 5, 4],\n",
       "       [5, 3, 6],\n",
       "       [2, 5, 2]], dtype=int32)"
      ]
     },
     "execution_count": 47,
     "metadata": {},
     "output_type": "execute_result"
    }
   ],
   "source": [
    "import numpy as np\n",
    "\n",
    "def simulate_dices(throws = 1, dices = 2):\n",
    "    return np.random.randint(1, 7, (throws, dices))\n",
    "\n",
    "simulate_dices(throws=2)\n",
    "\n",
    "simulate_dices(dices=3, throws=3)"
   ]
  },
  {
   "cell_type": "markdown",
   "metadata": {},
   "source": [
    "#### matplotlib\n"
   ]
  },
  {
   "cell_type": "markdown",
   "metadata": {},
   "source": [
    "import matplotlib.pyplot as plt"
   ]
  },
  {
   "cell_type": "code",
   "execution_count": 57,
   "metadata": {},
   "outputs": [],
   "source": [
    "import matplotlib.pyplot as plt"
   ]
  },
  {
   "cell_type": "code",
   "execution_count": null,
   "metadata": {},
   "outputs": [
    {
     "data": {
      "text/plain": [
       "<matplotlib.legend.Legend at 0x1d1cafa2330>"
      ]
     },
     "execution_count": 65,
     "metadata": {},
     "output_type": "execute_result"
    },
    {
     "data": {
      "image/png": "[encoded data removed]",
      "text/plain": [
       "<Figure size 640x480 with 1 Axes>"
      ]
     },
     "metadata": {},
     "output_type": "display_data"
    }
   ],
   "source": [
    "# functional approach for matplotlib\n",
    "\n",
    "# create data points\n",
    "\n",
    "f = lambda x: 3 * x - 2\n",
    "\n",
    "def g(x):\n",
    "    return x**2 -2\n",
    "\n",
    "x = tuple(range(-5,5))\n",
    "\n",
    "y = [f(i) for i in x]\n",
    "\n",
    "y2 =[g(i) for i in x]\n",
    "\n",
    "\n",
    "# start to generate graph\n",
    "\n",
    "plt.plot(x,y)\n",
    "plt.plot(x,y2)\n",
    "plt.title(\"plotting 2 functions\")\n",
    "plt.xlabel(\"$x$\")# dollar sign is used to make the text italic\n",
    "plt.ylabel(\"$y$\")\n",
    "plt.legend([\"$f(x)=3x-2$\", \"$g(x) = x^2-2$\"])\n",
    "# if its more than one argument you have to make it a list because it is a list of strings\n",
    "\n"
   ]
  },
  {
   "cell_type": "code",
   "execution_count": 70,
   "metadata": {},
   "outputs": [
    {
     "data": {
      "text/plain": [
       "[<matplotlib.lines.Line2D at 0x1d1ce82b7d0>]"
      ]
     },
     "execution_count": 70,
     "metadata": {},
     "output_type": "execute_result"
    },
    {
     "data": {
      "image/png": "[encoded data removed]",
      "text/plain": [
       "<Figure size 640x480 with 1 Axes>"
      ]
     },
     "metadata": {},
     "output_type": "display_data"
    },
    {
     "data": {
      "text/plain": [
       "<Figure size 640x480 with 0 Axes>"
      ]
     },
     "metadata": {},
     "output_type": "display_data"
    }
   ],
   "source": [
    "# OOP approach for matplotlib\n",
    "\n",
    "\n",
    "\n",
    "# create data points\n",
    "\n",
    "import numpy as np\n",
    "x = np.linspace(-np.pi, np.pi)\n",
    "f = lambda x: x**2 + 1\n",
    "g = lambda x: np.sin(x) + 5\n",
    "\n",
    "\n",
    "# start to create graph\n",
    "\n",
    "ax, fig = plt.axes(),plt.figure() # create two objects instead of using the plot function directly from the plt module\n",
    "\n",
    "# now we use the plot() method for the ax onject. note that plot here is not the same as the plot function from the plt module because it is a method of the ax object. It is used to plot the data points\n",
    "ax.plot(x, f(x))\n",
    "ax.plot(x, g(x)) \n"
   ]
  },
  {
   "cell_type": "markdown",
   "metadata": {},
   "source": [
    "# File handling"
   ]
  },
  {
   "cell_type": "markdown",
   "metadata": {},
   "source": [
    "Datetime"
   ]
  },
  {
   "cell_type": "code",
   "execution_count": null,
   "metadata": {},
   "outputs": [],
   "source": []
  }
 ],
 "metadata": {
  "kernelspec": {
   "display_name": ".venv",
   "language": "python",
   "name": "python3"
  },
  "language_info": {
   "codemirror_mode": {
    "name": "ipython",
    "version": 3
   },
   "file_extension": ".py",
   "mimetype": "text/x-python",
   "name": "python",
   "nbconvert_exporter": "python",
   "pygments_lexer": "ipython3",
   "version": "3.12.9"
  }
 },
 "nbformat": 4,
 "nbformat_minor": 2
}
