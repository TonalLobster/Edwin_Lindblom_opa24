{
 "cells": [
  {
   "cell_type": "markdown",
   "metadata": {},
   "source": [
    "Code along session - 14 Feb"
   ]
  },
  {
   "cell_type": "markdown",
   "metadata": {},
   "source": [
    "## Why we need to learn about OOP\n",
    "\n",
    "- 1. understand coding in general even if your are not creating classes on your own\n",
    "- 2. common that you will need to structure"
   ]
  },
  {
   "cell_type": "code",
   "execution_count": 1,
   "metadata": {},
   "outputs": [
    {
     "data": {
      "text/plain": [
       "datetime.datetime(2025, 2, 14, 9, 24, 12, 132586)"
      ]
     },
     "execution_count": 1,
     "metadata": {},
     "output_type": "execute_result"
    }
   ],
   "source": [
    "# we can import datetime library in two ways\n",
    "\n",
    "from datetime import datetime \n",
    "datetime.now()\n",
    "\n",
    "\n",
    "import datetime\n",
    "datetime.datetime.now()\n",
    "\n",
    "\n"
   ]
  },
  {
   "cell_type": "code",
   "execution_count": 5,
   "metadata": {},
   "outputs": [
    {
     "data": {
      "text/plain": [
       "[]"
      ]
     },
     "execution_count": 5,
     "metadata": {},
     "output_type": "execute_result"
    },
    {
     "data": {
      "image/png": "[encoded data removed]",
      "text/plain": [
       "<Figure size 640x480 with 1 Axes>"
      ]
     },
     "metadata": {},
     "output_type": "display_data"
    },
    {
     "data": {
      "text/plain": [
       "<Figure size 640x480 with 0 Axes>"
      ]
     },
     "metadata": {},
     "output_type": "display_data"
    }
   ],
   "source": [
    "# there are two approaches when plotting with matplotlib\n",
    "\n",
    "\n",
    "# # functional approach:\n",
    "# import matplotlib.pyplot as plt\n",
    "\n",
    "# plt.plot(x,y) # plot() är en funktion\n",
    "\n",
    "#OOP\n",
    "import matplotlib.pyplot as plt\n",
    "\n",
    "ax, fig = plt.axes(), plt.figure() # create two objects from classes in plt module\n",
    "ax.plot() # plot() is a method bounded to ax object\n",
    "\n"
   ]
  },
  {
   "cell_type": "markdown",
   "metadata": {},
   "source": [
    "## Code along"
   ]
  },
  {
   "cell_type": "markdown",
   "metadata": {},
   "source": [
    "#### Terms\n",
    "- Class has attributes and methods, it is a blueprint for instantiating/creating objects from it. Sometimes people say that they are instantiating an instance from a class.\n",
    "- In a class, we use dunder _init()__ method (one example method of dunder methods) for creating attributes. works as the constructor in c#.\n",
    "- __repr()__\n",
    "\n",
    "- attributes are variables belonging to a class, also to an object when we have instantiated an object.\n",
    "- memthods are actually functions. And a method is bounded to a class.\n",
    "\n"
   ]
  },
  {
   "cell_type": "markdown",
   "metadata": {},
   "source": [
    "**create a class**"
   ]
  },
  {
   "cell_type": "code",
   "execution_count": 26,
   "metadata": {},
   "outputs": [],
   "source": [
    "class ResponsiblePerson:\n",
    "    #create attributes\n",
    "    def __init__(self,name, age):\n",
    "        self.name = name\n",
    "        self.age = age\n",
    "\n",
    "    # create method\n",
    "    def greet(self):\n",
    "        print(f\"Hello, I'm {self.name}\")\n"
   ]
  },
  {
   "cell_type": "markdown",
   "metadata": {},
   "source": [
    "**Instantiate an object from class ResponsiblePerson**"
   ]
  },
  {
   "cell_type": "code",
   "execution_count": 27,
   "metadata": {},
   "outputs": [],
   "source": [
    "person1 = ResponsiblePerson(\"Edwin\",30)\n",
    "\n"
   ]
  },
  {
   "cell_type": "markdown",
   "metadata": {},
   "source": [
    "**call a method from this object**"
   ]
  },
  {
   "cell_type": "code",
   "execution_count": 28,
   "metadata": {},
   "outputs": [
    {
     "name": "stdout",
     "output_type": "stream",
     "text": [
      "Hello, I'm Edwin\n"
     ]
    }
   ],
   "source": [
    "person1.greet()"
   ]
  },
  {
   "cell_type": "markdown",
   "metadata": {},
   "source": [
    "**print out an reassign attribute of the object**\n",
    "\n",
    "- we would need to think about encapsulation(private attributes) if we don't want attributes to be reassigned after object is instatiated\n",
    "- property is a related concept but with property, we can also step up some rules for assignment value to an attribute( ex. set a defined age between 18-99)"
   ]
  },
  {
   "cell_type": "code",
   "execution_count": 29,
   "metadata": {},
   "outputs": [],
   "source": [
    "person1.name = \"Karl\""
   ]
  },
  {
   "cell_type": "code",
   "execution_count": 30,
   "metadata": {},
   "outputs": [
    {
     "data": {
      "text/plain": [
       "'Karl'"
      ]
     },
     "execution_count": 30,
     "metadata": {},
     "output_type": "execute_result"
    }
   ],
   "source": [
    "person1.name"
   ]
  },
  {
   "cell_type": "markdown",
   "metadata": {},
   "source": [
    "## Documentation\n"
   ]
  },
  {
   "cell_type": "markdown",
   "metadata": {},
   "source": [
    "#### use \\__repr__ and \\__str__ dunder method to show the information of the class & object"
   ]
  },
  {
   "cell_type": "code",
   "execution_count": 45,
   "metadata": {},
   "outputs": [],
   "source": [
    "class ResponsiblePerson:\n",
    "    #create attributes\n",
    "    def __init__(self,name, age):\n",
    "        self.name = name\n",
    "        self.age = age\n",
    "\n",
    "    # create method\n",
    "    def greet(self):\n",
    "        print(f\"Hello, I'm {self.name}\")\n",
    "\n",
    "\n",
    "#create __ repr__ method for documentation  --> usually used by developers\n",
    "def __repr__(self):\n",
    "    return f\"Person(name={self.name}, age={self.age})\"\n",
    "\n",
    "#create __str__ method for documentation --> usually human readable text used by users\n",
    "def __str__(self):\n",
    "    return f\"This is an object instatiated from a class called Person. It is used to store information of all persons working in this school\"\n",
    "\n",
    "\n"
   ]
  },
  {
   "cell_type": "code",
   "execution_count": 34,
   "metadata": {},
   "outputs": [],
   "source": [
    "person1 = ResponsiblePerson(\"Karl\", 30)"
   ]
  },
  {
   "cell_type": "code",
   "execution_count": 47,
   "metadata": {},
   "outputs": [
    {
     "name": "stdout",
     "output_type": "stream",
     "text": [
      "<__main__.ResponsiblePerson object at 0x0000021707CE0A40>\n"
     ]
    }
   ],
   "source": [
    "#if a developer want to know about this object\n",
    "\n",
    "print(repr(person1))"
   ]
  },
  {
   "cell_type": "code",
   "execution_count": 38,
   "metadata": {},
   "outputs": [
    {
     "name": "stdout",
     "output_type": "stream",
     "text": [
      "<__main__.ResponsiblePerson object at 0x0000021707CE0A40>\n"
     ]
    }
   ],
   "source": [
    "print(person1)"
   ]
  },
  {
   "cell_type": "markdown",
   "metadata": {},
   "source": [
    "use dostring and type hinting to print out documentation"
   ]
  },
  {
   "cell_type": "code",
   "execution_count": null,
   "metadata": {},
   "outputs": [],
   "source": [
    "class ResponsiblePerson:\n",
    "\n",
    "    # \"\"\"\n",
    "    # This is a person class which has many methods defined here:\n",
    "    # 1. method 1\n",
    "    # 2. method 2\n",
    "    # etc\n",
    "    # \"\"\"\n",
    "    #create attributes\n",
    "    def __init__(self,name: str, age: int):\n",
    "        self.name = name\n",
    "        self.age = age\n",
    "\n",
    "    # create method\n",
    "    def greet(self):\n",
    "        print(f\"Hello, I'm {self.name}\")\n"
   ]
  },
  {
   "cell_type": "code",
   "execution_count": 44,
   "metadata": {},
   "outputs": [
    {
     "data": {
      "text/plain": [
       "__main__.ResponsiblePerson"
      ]
     },
     "execution_count": 44,
     "metadata": {},
     "output_type": "execute_result"
    }
   ],
   "source": [
    "ResponsiblePerson"
   ]
  }
 ],
 "metadata": {
  "kernelspec": {
   "display_name": ".venv",
   "language": "python",
   "name": "python3"
  },
  "language_info": {
   "codemirror_mode": {
    "name": "ipython",
    "version": 3
   },
   "file_extension": ".py",
   "mimetype": "text/x-python",
   "name": "python",
   "nbconvert_exporter": "python",
   "pygments_lexer": "ipython3",
   "version": "3.12.9"
  }
 },
 "nbformat": 4,
 "nbformat_minor": 2
}
