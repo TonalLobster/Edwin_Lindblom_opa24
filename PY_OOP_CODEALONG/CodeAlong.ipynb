{
 "cells": [
  {
   "cell_type": "markdown",
   "metadata": {},
   "source": [
    "## Python Fundamentals Part 3 OOP"
   ]
  },
  {
   "cell_type": "code",
   "execution_count": null,
   "metadata": {},
   "outputs": [
    {
     "data": {
      "text/plain": [
       "<__main__.Admission at 0x1afcea8f3b0>"
      ]
     },
     "execution_count": 2,
     "metadata": {},
     "output_type": "execute_result"
    }
   ],
   "source": [
    "class Admission:\n",
    "    def __init__(self,school, program, name, accept):\n",
    "        self.school = school\n",
    "        self.program = program\n",
    "        self.name = name\n",
    "        self.accept = accept\n",
    "\n",
    "student1 = Admission(\"Cool school\", \"AI\",accept= True, name = \"Kokchun\")\n",
    "student1\n",
    "## dedefault dunder method of the class is written out"
   ]
  },
  {
   "cell_type": "code",
   "execution_count": 5,
   "metadata": {},
   "outputs": [
    {
     "data": {
      "text/plain": [
       "<__main__.Admission at 0x1afce771a30>"
      ]
     },
     "execution_count": 5,
     "metadata": {},
     "output_type": "execute_result"
    }
   ],
   "source": [
    "student2 = Admission(\"Cooler School\",\"Data Science\", accept=False, name = \"Gore Bord\")\n",
    "student2"
   ]
  },
  {
   "cell_type": "code",
   "execution_count": 8,
   "metadata": {},
   "outputs": [
    {
     "data": {
      "text/plain": [
       "('AI', 'Kokchun', True)"
      ]
     },
     "execution_count": 8,
     "metadata": {},
     "output_type": "execute_result"
    }
   ],
   "source": [
    "student1.program, student1.name, student1.accept"
   ]
  },
  {
   "cell_type": "code",
   "execution_count": null,
   "metadata": {},
   "outputs": [
    {
     "data": {
      "text/plain": [
       "('Gore Bord', False)"
      ]
     },
     "execution_count": 10,
     "metadata": {},
     "output_type": "execute_result"
    }
   ],
   "source": [
    "student2.name, student2.accept"
   ]
  },
  {
   "cell_type": "code",
   "execution_count": 12,
   "metadata": {},
   "outputs": [
    {
     "data": {
      "text/plain": [
       "'UX'"
      ]
     },
     "execution_count": 12,
     "metadata": {},
     "output_type": "execute_result"
    }
   ],
   "source": [
    "student2.program = \"UX\"\n",
    "student2.program"
   ]
  },
  {
   "cell_type": "code",
   "execution_count": 16,
   "metadata": {},
   "outputs": [
    {
     "data": {
      "text/plain": [
       "('0x1afcea8f3b0', '0x1afce771a30')"
      ]
     },
     "execution_count": 16,
     "metadata": {},
     "output_type": "execute_result"
    }
   ],
   "source": [
    "hex(id(student1)), hex(id(student2))"
   ]
  },
  {
   "cell_type": "markdown",
   "metadata": {},
   "source": [
    "## \\_\\_repr\\_\\_\n",
    "- \"dunder repper\"\n",
    "- method for representing an object or an instance"
   ]
  },
  {
   "cell_type": "code",
   "execution_count": 20,
   "metadata": {},
   "outputs": [
    {
     "data": {
      "text/plain": [
       "Admission(school='Cool School',program='Haskell', name= 'Ada Lovelace'), accept = True"
      ]
     },
     "execution_count": 20,
     "metadata": {},
     "output_type": "execute_result"
    }
   ],
   "source": [
    "class Admission:\n",
    "    def __init__(self,school, program, name, accept):\n",
    "        self.school = school\n",
    "        self.program = program\n",
    "        self.name = name\n",
    "        self.accept = accept\n",
    "\n",
    "    def __repr__(self):\n",
    "        return f\"Admission(school='{self.school}',program='{self.program}', name= '{self.name}'), accept = {self.accept}\"\n",
    "\n",
    "student3 = Admission(\"Cool School\", \"Haskell\", \"Ada Lovelace\", True)\n",
    "student3"
   ]
  },
  {
   "cell_type": "code",
   "execution_count": 22,
   "metadata": {},
   "outputs": [
    {
     "data": {
      "text/plain": [
       "\"Admission(school='Cool School',program='Haskell', name= 'Ada Lovelace'), accept = True\""
      ]
     },
     "execution_count": 22,
     "metadata": {},
     "output_type": "execute_result"
    }
   ],
   "source": [
    "repr(student3)"
   ]
  },
  {
   "cell_type": "code",
   "execution_count": 24,
   "metadata": {},
   "outputs": [
    {
     "data": {
      "text/plain": [
       "\"Admission(school='Cool School',program='Haskell', name= 'Ada Lovelace'), accept = True\""
      ]
     },
     "execution_count": 24,
     "metadata": {},
     "output_type": "execute_result"
    }
   ],
   "source": [
    "str(student3)"
   ]
  },
  {
   "cell_type": "markdown",
   "metadata": {},
   "source": [
    "## Documentation\n",
    "- docstring\n",
    "- type hinting"
   ]
  },
  {
   "cell_type": "code",
   "execution_count": null,
   "metadata": {},
   "outputs": [
    {
     "data": {
      "text/plain": [
       "Student(name='Gore Bord', age=55, active = True)"
      ]
     },
     "execution_count": 28,
     "metadata": {},
     "output_type": "execute_result"
    }
   ],
   "source": [
    "class Student:\n",
    "    def __init__(self, name: str, age: int, active: bool) -> None:\n",
    "        self.name = name\n",
    "        self.age = age\n",
    "        self.active = active\n",
    "        \n",
    "    def __repr__(self) -> str:\n",
    "        return f\"Student(name='{self.name}', age={self.age}, active = {self.active})\"\n",
    "    \n",
    "s1 = Student(\"Gore Bord\", 55, True)\n",
    "s1\n"
   ]
  },
  {
   "cell_type": "code",
   "execution_count": 29,
   "metadata": {},
   "outputs": [
    {
     "name": "stdout",
     "output_type": "stream",
     "text": [
      "Help on class Student in module __main__:\n",
      "\n",
      "class Student(builtins.object)\n",
      " |  Student(name: str, age: int, active: bool) -> None\n",
      " |\n",
      " |  A class to represent a student.\n",
      " |\n",
      " |  Attributes:\n",
      " |  ----------\n",
      " |  name : str\n",
      " |      The name of the student.\n",
      " |  age : int\n",
      " |      The age of the student.\n",
      " |  active : bool\n",
      " |      Indicates whether the student is active. (e.g., if they participate in class activetly).\n",
      " |\n",
      " |  Methods:\n",
      " |  -------\n",
      " |  __repr__():\n",
      " |      Provides a string representation of the Student object.\n",
      " |\n",
      " |  Examples:\n",
      " |  --------\n",
      " |  Create a new student:\n",
      " |      >>> student = Student(name=\"John Doe\", age=21, active=True)\n",
      " |      >>> print(student)\n",
      " |      Student(name='John Doe', age=21, active=True)\n",
      " |\n",
      " |  Access attributes:\n",
      " |      >>> student.name\n",
      " |      'John Doe'\n",
      " |      >>> student.age\n",
      " |      21\n",
      " |      >>> student.active\n",
      " |      True\n",
      " |\n",
      " |  Modify attributes:\n",
      " |      >>> student.active = False\n",
      " |      >>> print(student)\n",
      " |      Student(name='John Doe', age=21, active=False)\n",
      " |\n",
      " |  Methods defined here:\n",
      " |\n",
      " |  __init__(self, name: str, age: int, active: bool) -> None\n",
      " |      Initialize self.  See help(type(self)) for accurate signature.\n",
      " |\n",
      " |  __repr__(self) -> str\n",
      " |      Return repr(self).\n",
      " |\n",
      " |  ----------------------------------------------------------------------\n",
      " |  Data descriptors defined here:\n",
      " |\n",
      " |  __dict__\n",
      " |      dictionary for instance variables\n",
      " |\n",
      " |  __weakref__\n",
      " |      list of weak references to the object\n",
      "\n"
     ]
    }
   ],
   "source": [
    "class Student:\n",
    "    \"\"\"\n",
    "    A class to represent a student.\n",
    "\n",
    "    Attributes:\n",
    "    ----------\n",
    "    name : str\n",
    "        The name of the student.\n",
    "    age : int\n",
    "        The age of the student.\n",
    "    active : bool\n",
    "        Indicates whether the student is active. (e.g., if they participate in class activetly).\n",
    "\n",
    "    Methods:\n",
    "    -------\n",
    "    __repr__():\n",
    "        Provides a string representation of the Student object.\n",
    "\n",
    "    Examples:\n",
    "    --------\n",
    "    Create a new student:\n",
    "        >>> student = Student(name=\"John Doe\", age=21, active=True)\n",
    "        >>> print(student)\n",
    "        Student(name='John Doe', age=21, active=True)\n",
    "\n",
    "    Access attributes:\n",
    "        >>> student.name\n",
    "        'John Doe'\n",
    "        >>> student.age\n",
    "        21\n",
    "        >>> student.active\n",
    "        True\n",
    "\n",
    "    Modify attributes:\n",
    "        >>> student.active = False\n",
    "        >>> print(student)\n",
    "        Student(name='John Doe', age=21, active=False)\n",
    "    \"\"\"\n",
    "\n",
    "    def __init__(self, name: str, age: int, active: bool) -> None:\n",
    "        self.name = name\n",
    "        self.age = age\n",
    "        self.active = active\n",
    "        \n",
    "    def __repr__(self) -> str:\n",
    "        return f\"Student(name='{self.name}', age={self.age}, active={self.active})\"\n",
    "    \n",
    "\n",
    "\n",
    "help(Student)\n"
   ]
  }
 ],
 "metadata": {
  "kernelspec": {
   "display_name": "venv",
   "language": "python",
   "name": "python3"
  },
  "language_info": {
   "codemirror_mode": {
    "name": "ipython",
    "version": 3
   },
   "file_extension": ".py",
   "mimetype": "text/x-python",
   "name": "python",
   "nbconvert_exporter": "python",
   "pygments_lexer": "ipython3",
   "version": "3.12.9"
  }
 },
 "nbformat": 4,
 "nbformat_minor": 2
}
